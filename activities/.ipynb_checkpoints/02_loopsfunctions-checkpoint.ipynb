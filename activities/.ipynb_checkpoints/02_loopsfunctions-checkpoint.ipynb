{
 "cells": [
  {
   "cell_type": "code",
   "execution_count": null,
   "metadata": {},
   "outputs": [],
   "source": [
    "## imports\n",
    "import pandas as pd\n",
    "import numpy as np\n",
    "import plotnine\n",
    "from plotnine import *\n",
    "import random\n",
    "\n",
    "## print multiple things from same cell\n",
    "from IPython.core.interactiveshell import InteractiveShell\n",
    "InteractiveShell.ast_node_interactivity = \"all\"\n",
    "\n",
    "from datetime import datetime, timedelta"
   ]
  },
  {
   "cell_type": "markdown",
   "metadata": {},
   "source": [
    "## Load data"
   ]
  },
  {
   "cell_type": "code",
   "execution_count": null,
   "metadata": {
    "scrolled": true
   },
   "outputs": [],
   "source": [
    "## load data on 2020 crimes in DC\n",
    "df = dc_crim_2020 = pd.read_csv(\"https://opendata.arcgis.com/datasets/f516e0dd7b614b088ad781b0c4002331_2.csv\")\n",
    "\n",
    "## create report_dt column\n",
    "df['report_dt'] = pd.to_datetime(df.REPORT_DAT)"
   ]
  },
  {
   "cell_type": "code",
   "execution_count": null,
   "metadata": {},
   "outputs": [],
   "source": []
  },
  {
   "cell_type": "markdown",
   "metadata": {},
   "source": [
    "## Warm-up Demo"
   ]
  },
  {
   "cell_type": "code",
   "execution_count": null,
   "metadata": {},
   "outputs": [],
   "source": [
    "%%time\n",
    "for i in range(df.shape[0]):\n",
    "    r = df.iloc[i]\n",
    "    r.X + r.Y"
   ]
  },
  {
   "cell_type": "code",
   "execution_count": null,
   "metadata": {},
   "outputs": [],
   "source": [
    "%%time\n",
    "for i,r in df.iterrows():\n",
    "    r.X + r.Y"
   ]
  },
  {
   "cell_type": "code",
   "execution_count": null,
   "metadata": {},
   "outputs": [],
   "source": [
    "%%time\n",
    "df.apply(lambda r: r.X + r.Y, axis = 1)"
   ]
  },
  {
   "cell_type": "code",
   "execution_count": null,
   "metadata": {},
   "outputs": [],
   "source": [
    "%%time\n",
    "## Super fast, but only works with built-in numpy functions.\n",
    "df.X + df.Y"
   ]
  },
  {
   "cell_type": "code",
   "execution_count": null,
   "metadata": {},
   "outputs": [],
   "source": []
  },
  {
   "cell_type": "markdown",
   "metadata": {},
   "source": [
    "# Practice"
   ]
  },
  {
   "cell_type": "code",
   "execution_count": null,
   "metadata": {},
   "outputs": [],
   "source": [
    "## define crimes to look for and crimes to look within\n",
    "## CCN is Central Complaint Number: https://go.mpdconline.com/GO/GO_401_01.pdf\n",
    "CCN_examples = ['20165648', '20123250']\n",
    "C_Tar = C_Target = crimes_lookfor = df[df.CCN.astype(str).isin(CCN_examples)][['CCN', 'WARD', 'OFFENSE', 'report_dt']]\n",
    "C_Oth = C_Other  = other_crimes = df[~df.CCN.astype(str).isin(CCN_examples)]\n",
    "\n",
    "## print crimes_lookfor\n",
    "C_Tar.head()\n",
    "# other_crimes.head()"
   ]
  },
  {
   "cell_type": "markdown",
   "metadata": {},
   "source": [
    "**Task**: we have two crimes we want to look for. We want to look in the remaining crime reports for crime reports that are:\n",
    "\n",
    "- Located in the same ward as the two focal crimes\n",
    "- Reported at the same time as the focal crime or up to 1000 minutes later (changed from slides which stated 20 mins since crime ids changed since last time so this long bandwidth helps us find matches!)\n",
    "\n",
    "Solutions compare two ways to solve:\n",
    "\n",
    "- Using a for loop\n",
    "- Using a function"
   ]
  },
  {
   "cell_type": "markdown",
   "metadata": {},
   "source": [
    "## 1. Loop approach"
   ]
  },
  {
   "cell_type": "code",
   "execution_count": null,
   "metadata": {},
   "outputs": [],
   "source": [
    "## create empty container to store results \n",
    "store_matches = {}\n",
    "\n",
    "## loop through two example crimes\n",
    "for i in range(C_Tar.shape[0]): # same as shape\n",
    "    \n",
    "    ## extract row\n",
    "    r = one_row = C_Tar.iloc[i]\n",
    "\n",
    "    ## first, subset to crimes in same ward\n",
    "    same_wards = C_Oth[C_Oth.WARD == r.WARD]\n",
    "    \n",
    "    ## second, with those same-ward crimes, construct indicator for reported within 20 minutes\n",
    "    ## (interpreting as after but could do either)\n",
    "    ### substep: get time cutoff\n",
    "    CUTOFF = r.report_dt +  timedelta(minutes=1200)\n",
    "    \n",
    "    ### substep: use that to subset\n",
    "    same_wards_sametime = same_wards[(same_wards.report_dt >= r.report_dt) & \n",
    "                                    (same_wards.report_dt <= CUTOFF)].copy()\n",
    "    \n",
    "    ## third, store the results\n",
    "    store_matches[str(one_row.CCN)] = same_wards_sametime\n",
    "    \n",
    "## finally, concatenate results into one df\n",
    "all_matches = pd.concat(store_matches)\n",
    "all_matches.head()"
   ]
  },
  {
   "cell_type": "code",
   "execution_count": null,
   "metadata": {},
   "outputs": [],
   "source": []
  },
  {
   "cell_type": "markdown",
   "metadata": {},
   "source": [
    "# 1.5 Iterrow Approach"
   ]
  },
  {
   "cell_type": "code",
   "execution_count": null,
   "metadata": {},
   "outputs": [],
   "source": [
    "## create empty container to store results \n",
    "store_matches = {}\n",
    "\n",
    "## loop through two example crimes\n",
    "for i, r in C_Tar.iterrows(): # same as \n",
    "\n",
    "    ## subset to crimes in same ward\n",
    "    same_wards = C_Oth[C_Oth.WARD == r.WARD]\n",
    "    \n",
    "    ## second, with those same-ward crimes, construct indicator for reported within 20 minutes\n",
    "    ## (interpreting as after but could do either)\n",
    "    ### substep: get time cutoff\n",
    "    CUTOFF = r.report_dt +  timedelta(minutes=1200)\n",
    "    \n",
    "    ### substep: use that to subset\n",
    "    same_wards_sametime = same_wards[(same_wards.report_dt >= r.report_dt) & \n",
    "                                    (same_wards.report_dt <= CUTOFF)].copy()\n",
    "    \n",
    "    ## third, store the results\n",
    "    store_matches[str(one_row.CCN)] = same_wards_sametime\n",
    "    \n",
    "## finally, concatenate results into one df\n",
    "all_matches = pd.concat(store_matches)\n",
    "all_matches.head()"
   ]
  },
  {
   "cell_type": "code",
   "execution_count": null,
   "metadata": {},
   "outputs": [],
   "source": []
  },
  {
   "cell_type": "markdown",
   "metadata": {},
   "source": [
    "## 2. Function approach\n",
    "\n",
    "Practice rewriting the above loop as a function"
   ]
  },
  {
   "cell_type": "markdown",
   "metadata": {},
   "source": [
    "### 2.1 define the function"
   ]
  },
  {
   "cell_type": "code",
   "execution_count": null,
   "metadata": {},
   "outputs": [],
   "source": [
    "store_matches_2 = {}\n",
    "\n",
    "def find_related_crimes(r): # imagine the function taking in one row as its sole variable\n",
    "    # Your code here"
   ]
  },
  {
   "cell_type": "markdown",
   "metadata": {},
   "source": [
    "### 2.2 apply it to one of the focal crimes"
   ]
  },
  {
   "cell_type": "code",
   "execution_count": null,
   "metadata": {},
   "outputs": [],
   "source": []
  },
  {
   "cell_type": "markdown",
   "metadata": {},
   "source": [
    "### 2.3 Use apply to cover all the other focal crimes"
   ]
  },
  {
   "cell_type": "code",
   "execution_count": null,
   "metadata": {},
   "outputs": [],
   "source": []
  }
 ],
 "metadata": {
  "kernelspec": {
   "display_name": "Python 3 (ipykernel)",
   "language": "python",
   "name": "python3"
  },
  "language_info": {
   "codemirror_mode": {
    "name": "ipython",
    "version": 3
   },
   "file_extension": ".py",
   "mimetype": "text/x-python",
   "name": "python",
   "nbconvert_exporter": "python",
   "pygments_lexer": "ipython3",
   "version": "3.9.12"
  }
 },
 "nbformat": 4,
 "nbformat_minor": 4
}
